{
 "cells": [
  {
   "cell_type": "code",
   "execution_count": 1,
   "metadata": {},
   "outputs": [],
   "source": [
    "import pandas as pd\n",
    "from bs4 import BeautifulSoup\n",
    "import requests\n",
    "import csv\n",
    "import selenium\n",
    "from selenium import webdriver"
   ]
  },
  {
   "cell_type": "code",
   "execution_count": 2,
   "metadata": {},
   "outputs": [],
   "source": [
    "def get_url(search_term):\n",
    "    template = f'https://www.amazon.com/s?k={search_term}&crid=2LAC2KLUYYL46&sprefix=laptop%2Caps%2C257&ref=nb_sb_noss_2'\n",
    "    return template"
   ]
  },
  {
   "cell_type": "code",
   "execution_count": 3,
   "metadata": {},
   "outputs": [],
   "source": [
    "def extract_sku_data(item):\n",
    "    \n",
    "    try:\n",
    "        description = item.find('span', class_='a-size-medium a-color-base a-text-normal').text\n",
    "    except:\n",
    "        description = 'empty'\n",
    "        pass\n",
    "    \n",
    "    try:\n",
    "        price = item.find('span', class_='a-offscreen').text\n",
    "    except:\n",
    "        price = 'empty'\n",
    "        pass\n",
    "    \n",
    "    try:\n",
    "        rating = item.find('span', class_='').text\n",
    "    except:\n",
    "        rating = 'empty'\n",
    "        pass    \n",
    "        \n",
    "    try:\n",
    "        sku_link = item.find(\"a\", class_=\"a-size-base a-link-normal s-no-hover s-underline-text s-underline-link-text s-link-style a-text-normal\")\n",
    "        sku_link = sku_link['href'] \n",
    "    except:\n",
    "        sku_link = 'empty'\n",
    "        pass\n",
    "\n",
    "\n",
    "    elem = {\n",
    "        \"description\": description, \n",
    "        \"price\": price, \n",
    "        \"rating\": rating, \n",
    "        \"sku_link\":sku_link #.split(\"ref\")[0]\n",
    "    }\n",
    "    \n",
    "    return elem\n",
    "\n",
    "\n",
    "def scrape_page(driver, url):\n",
    "    driver.get(url)\n",
    "    soup = BeautifulSoup(driver.page_source, 'html.parser') \n",
    "\n",
    "    items = soup.find_all('div', {'data-asin': True, 'data-component-type':True})\n",
    "\n",
    "    # for item in items:\n",
    "    data = []\n",
    "    for item in items:\n",
    "        item_id = item.get(\"data-asin\")\n",
    "        elem = extract_sku_data(item)\n",
    "        data.append(elem)\n",
    "\n",
    "    # get next page link\n",
    "    next_page = soup.find(class_=\"s-pagination-item s-pagination-next s-pagination-button s-pagination-separator\")\n",
    "    \n",
    "    if next_page:\n",
    "        next_page = \"https://www.amazon.com\" + next_page['href']\n",
    "    else:\n",
    "        next_page = \"last-page\"\n",
    "\n",
    "    return next_page, pd.DataFrame(data)"
   ]
  },
  {
   "cell_type": "code",
   "execution_count": 4,
   "metadata": {},
   "outputs": [],
   "source": [
    "# Function to clean up rating column\n",
    "def clean_rating(rating):\n",
    "    try:\n",
    "        rating_value = float(rating)\n",
    "        if 0 <= rating_value <= 5:  # Assuming rating is within the range of 0 to 5\n",
    "            return rating_value\n",
    "        else:\n",
    "            return None\n",
    "    except ValueError:\n",
    "        return None"
   ]
  },
  {
   "cell_type": "code",
   "execution_count": 5,
   "metadata": {},
   "outputs": [
    {
     "data": {
      "text/plain": [
       "'https://www.amazon.com/s?k=laptop&crid=2LAC2KLUYYL46&sprefix=laptop%2Caps%2C257&ref=nb_sb_noss_2'"
      ]
     },
     "execution_count": 5,
     "metadata": {},
     "output_type": "execute_result"
    }
   ],
   "source": [
    "# initialize the browser\n",
    "driver = webdriver.Firefox()\n",
    "\n",
    "# define a search term\n",
    "search_term = 'laptop'\n",
    "url = get_url(search_term)\n",
    "url"
   ]
  },
  {
   "cell_type": "code",
   "execution_count": 6,
   "metadata": {},
   "outputs": [
    {
     "name": "stdout",
     "output_type": "stream",
     "text": [
      "https://www.amazon.com/s?k=laptop&crid=2LAC2KLUYYL46&sprefix=laptop%2Caps%2C257&ref=nb_sb_noss_2\n",
      "https://www.amazon.com/s?k=laptop&page=2&crid=2LAC2KLUYYL46&qid=1692980273&sprefix=laptop%2Caps%2C257&ref=sr_pg_1\n",
      "https://www.amazon.com/s?k=laptop&page=3&crid=2LAC2KLUYYL46&qid=1692980276&sprefix=laptop%2Caps%2C257&ref=sr_pg_2\n",
      "https://www.amazon.com/s?k=laptop&page=4&crid=2LAC2KLUYYL46&qid=1692980279&sprefix=laptop%2Caps%2C257&ref=sr_pg_3\n",
      "https://www.amazon.com/s?k=laptop&page=5&crid=2LAC2KLUYYL46&qid=1692980283&sprefix=laptop%2Caps%2C257&ref=sr_pg_4\n",
      "https://www.amazon.com/s?k=laptop&page=6&crid=2LAC2KLUYYL46&qid=1692980285&sprefix=laptop%2Caps%2C257&ref=sr_pg_5\n",
      "https://www.amazon.com/s?k=laptop&page=7&crid=2LAC2KLUYYL46&qid=1692980288&sprefix=laptop%2Caps%2C257&ref=sr_pg_6\n",
      "https://www.amazon.com/s?k=laptop&page=8&crid=2LAC2KLUYYL46&qid=1692980290&sprefix=laptop%2Caps%2C257&ref=sr_pg_7\n",
      "https://www.amazon.com/s?k=laptop&page=9&crid=2LAC2KLUYYL46&qid=1692980293&sprefix=laptop%2Caps%2C257&ref=sr_pg_8\n",
      "https://www.amazon.com/s?k=laptop&page=10&crid=2LAC2KLUYYL46&qid=1692980295&sprefix=laptop%2Caps%2C257&ref=sr_pg_9\n",
      "https://www.amazon.com/s?k=laptop&page=11&crid=2LAC2KLUYYL46&qid=1692980298&sprefix=laptop%2Caps%2C257&ref=sr_pg_10\n",
      "https://www.amazon.com/s?k=laptop&page=12&crid=2LAC2KLUYYL46&qid=1692980300&sprefix=laptop%2Caps%2C257&ref=sr_pg_11\n",
      "https://www.amazon.com/s?k=laptop&page=13&crid=2LAC2KLUYYL46&qid=1692980303&sprefix=laptop%2Caps%2C257&ref=sr_pg_12\n",
      "https://www.amazon.com/s?k=laptop&page=14&crid=2LAC2KLUYYL46&qid=1692980305&sprefix=laptop%2Caps%2C257&ref=sr_pg_13\n",
      "https://www.amazon.com/s?k=laptop&page=15&crid=2LAC2KLUYYL46&qid=1692980308&sprefix=laptop%2Caps%2C257&ref=sr_pg_14\n",
      "https://www.amazon.com/s?k=laptop&page=16&crid=2LAC2KLUYYL46&qid=1692980311&sprefix=laptop%2Caps%2C257&ref=sr_pg_15\n",
      "https://www.amazon.com/s?k=laptop&page=17&crid=2LAC2KLUYYL46&qid=1692980313&sprefix=laptop%2Caps%2C257&ref=sr_pg_16\n",
      "https://www.amazon.com/s?k=laptop&page=18&crid=2LAC2KLUYYL46&qid=1692980316&sprefix=laptop%2Caps%2C257&ref=sr_pg_17\n",
      "https://www.amazon.com/s?k=laptop&page=19&crid=2LAC2KLUYYL46&qid=1692980318&sprefix=laptop%2Caps%2C257&ref=sr_pg_18\n",
      "https://www.amazon.com/s?k=laptop&page=20&crid=2LAC2KLUYYL46&qid=1692980321&sprefix=laptop%2Caps%2C257&ref=sr_pg_19\n"
     ]
    }
   ],
   "source": [
    "data = []\n",
    "while url != \"last-page\":\n",
    "    print(url)\n",
    "    url, page_data = scrape_page(driver, url)\n",
    "    data.append(page_data)"
   ]
  },
  {
   "cell_type": "code",
   "execution_count": 7,
   "metadata": {},
   "outputs": [],
   "source": [
    "df = pd.concat(data)\n",
    "df['rating'] = df.rating.str.extract(r'(\\d+\\.\\d)')"
   ]
  },
  {
   "cell_type": "code",
   "execution_count": 8,
   "metadata": {},
   "outputs": [],
   "source": [
    "df['rating'] = pd.to_numeric(df['rating'])"
   ]
  },
  {
   "cell_type": "code",
   "execution_count": 9,
   "metadata": {},
   "outputs": [],
   "source": [
    "# Applying the clean_rating function to the 'rating' column\n",
    "df['rating'] = df['rating'].apply(clean_rating)"
   ]
  },
  {
   "cell_type": "code",
   "execution_count": 12,
   "metadata": {},
   "outputs": [
    {
     "data": {
      "text/html": [
       "<div>\n",
       "<style scoped>\n",
       "    .dataframe tbody tr th:only-of-type {\n",
       "        vertical-align: middle;\n",
       "    }\n",
       "\n",
       "    .dataframe tbody tr th {\n",
       "        vertical-align: top;\n",
       "    }\n",
       "\n",
       "    .dataframe thead th {\n",
       "        text-align: right;\n",
       "    }\n",
       "</style>\n",
       "<table border=\"1\" class=\"dataframe\">\n",
       "  <thead>\n",
       "    <tr style=\"text-align: right;\">\n",
       "      <th></th>\n",
       "      <th>description</th>\n",
       "      <th>price</th>\n",
       "      <th>rating</th>\n",
       "      <th>sku_link</th>\n",
       "    </tr>\n",
       "  </thead>\n",
       "  <tbody>\n",
       "    <tr>\n",
       "      <th>0</th>\n",
       "      <td>2023 Newest Upgraded IdeaPad 1i Laptops for St...</td>\n",
       "      <td>$329.99</td>\n",
       "      <td>NaN</td>\n",
       "      <td>/sspa/click?ie=UTF8&amp;spc=MTo0MjYwODg4ODE0ODAwNj...</td>\n",
       "    </tr>\n",
       "    <tr>\n",
       "      <th>1</th>\n",
       "      <td>Acer Aspire 1 A115-32-C96U Slim Laptop | 15.6\"...</td>\n",
       "      <td>$229.99</td>\n",
       "      <td>NaN</td>\n",
       "      <td>/sspa/click?ie=UTF8&amp;spc=MTo0MjYwODg4ODE0ODAwNj...</td>\n",
       "    </tr>\n",
       "    <tr>\n",
       "      <th>2</th>\n",
       "      <td>Lenovo 2023 High Performance 15'' FHD IPS Lapt...</td>\n",
       "      <td>$269.99</td>\n",
       "      <td>4.3</td>\n",
       "      <td>/Lenovo-Performance-15-Laptop-Super-Fast/dp/B0...</td>\n",
       "    </tr>\n",
       "    <tr>\n",
       "      <th>3</th>\n",
       "      <td>Acer Aspire 5 A515-56-347N Slim Laptop - 15.6\"...</td>\n",
       "      <td>$299.99</td>\n",
       "      <td>4.3</td>\n",
       "      <td>/Acer-Aspire-A515-56-347N-Slim-Laptop/dp/B0BL8...</td>\n",
       "    </tr>\n",
       "    <tr>\n",
       "      <th>4</th>\n",
       "      <td>Lenovo IdeaPad 3 – (2023) - Everyday Notebook ...</td>\n",
       "      <td>$280.98</td>\n",
       "      <td>4.5</td>\n",
       "      <td>/Lenovo-IdeaPad-Everyday-Notebook-i3-1115G/dp/...</td>\n",
       "    </tr>\n",
       "  </tbody>\n",
       "</table>\n",
       "</div>"
      ],
      "text/plain": [
       "                                         description    price  rating  \\\n",
       "0  2023 Newest Upgraded IdeaPad 1i Laptops for St...  $329.99     NaN   \n",
       "1  Acer Aspire 1 A115-32-C96U Slim Laptop | 15.6\"...  $229.99     NaN   \n",
       "2  Lenovo 2023 High Performance 15'' FHD IPS Lapt...  $269.99     4.3   \n",
       "3  Acer Aspire 5 A515-56-347N Slim Laptop - 15.6\"...  $299.99     4.3   \n",
       "4  Lenovo IdeaPad 3 – (2023) - Everyday Notebook ...  $280.98     4.5   \n",
       "\n",
       "                                            sku_link  \n",
       "0  /sspa/click?ie=UTF8&spc=MTo0MjYwODg4ODE0ODAwNj...  \n",
       "1  /sspa/click?ie=UTF8&spc=MTo0MjYwODg4ODE0ODAwNj...  \n",
       "2  /Lenovo-Performance-15-Laptop-Super-Fast/dp/B0...  \n",
       "3  /Acer-Aspire-A515-56-347N-Slim-Laptop/dp/B0BL8...  \n",
       "4  /Lenovo-IdeaPad-Everyday-Notebook-i3-1115G/dp/...  "
      ]
     },
     "execution_count": 12,
     "metadata": {},
     "output_type": "execute_result"
    }
   ],
   "source": [
    "df.head()"
   ]
  },
  {
   "cell_type": "code",
   "execution_count": 11,
   "metadata": {},
   "outputs": [],
   "source": [
    "df.to_csv('amazon_laptop.csv', index=False)"
   ]
  }
 ],
 "metadata": {
  "kernelspec": {
   "display_name": "scraper",
   "language": "python",
   "name": "scraper"
  },
  "language_info": {
   "codemirror_mode": {
    "name": "ipython",
    "version": 3
   },
   "file_extension": ".py",
   "mimetype": "text/x-python",
   "name": "python",
   "nbconvert_exporter": "python",
   "pygments_lexer": "ipython3",
   "version": "3.10.12"
  }
 },
 "nbformat": 4,
 "nbformat_minor": 2
}
